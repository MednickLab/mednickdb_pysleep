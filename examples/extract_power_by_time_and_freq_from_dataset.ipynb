{
 "cells": [
  {
   "cell_type": "code",
   "execution_count": 1,
   "metadata": {},
   "outputs": [],
   "source": [
    "# Not needed if pysleep is pip installed (i.e. you probably dont need these lines)\n",
    "import sys, os\n",
    "file_dir = os.path.abspath('')\n",
    "sys.path.insert(0, file_dir+'/../')"
   ]
  },
  {
   "cell_type": "code",
   "execution_count": 7,
   "metadata": {},
   "outputs": [],
   "source": [
    "#%% Import the tools we need\n",
    "from mednickdb_pysleep import process_sleep_record, scorefiles, sleep_architecture\n",
    "import pandas as pd\n",
    "import numpy as np\n",
    "import yaml\n",
    "import mne\n",
    "from scipy.io import savemat\n",
    "from wonambi import Dataset\n",
    "from wonambi.trans import math, timefrequency\n",
    "import warnings\n",
    "import datetime\n",
    "warnings.filterwarnings(\"ignore\")"
   ]
  },
  {
   "cell_type": "code",
   "execution_count": 12,
   "metadata": {},
   "outputs": [],
   "source": [
    "#setup location of files and save locations\n",
    "edf_base_path = 'C:/Users/bdyet/Desktop/ExampleStudy2/raw_sleep_eeg/'\n",
    "scorefile_base_path = 'C:/Users/bdyet/Desktop/ExampleStudy2/sleep_scoring/'\n",
    "edf_filenames = ['Sid1_edf.edf']\n",
    "scorefile_filenames = ['sid1.csv']\n",
    "ids = ['1'] #these are the ids for each subject, they conrespond to each edf/scorefile above\n",
    "study_settings_path = 'C:/Users/bdyet/Desktop/ExampleStudy2/choc_type_study_settings.yaml'\n",
    "save_base_path = 'C:/Users/bdyet/Desktop/ExampleStudy2/'\n",
    "max_freq = 35\n",
    "epoch_len = 3 #avergae power evey 3 seconds"
   ]
  },
  {
   "cell_type": "code",
   "execution_count": 60,
   "metadata": {},
   "outputs": [
    {
     "name": "stdout",
     "output_type": "stream",
     "text": [
      "Working on C:/Users/bdyet/Desktop/ExampleStudy2/raw_sleep_eeg/Sid1_edf.edf\n",
      "\tDone, .mat file saved\n"
     ]
    }
   ],
   "source": [
    "#%% loop through edf's, extract band power, spindles and slow osc (per stage)\n",
    "edf_filepaths = [edf_base_path + edf_filename for edf_filename in edf_filenames]\n",
    "scoring_filepaths = [scorefile_base_path + scorefile_filename for scorefile_filename in scorefile_filenames]\n",
    "features_averages_cont = []\n",
    "band_power_averages_cont = []\n",
    "features_df_cont = []\n",
    "\n",
    "study_settings = yaml.safe_load(open(study_settings_path,'r+'))\n",
    "\n",
    "for edf_filepath, scorefile_filepath in zip(edf_filepaths, scoring_filepaths):   \n",
    "    print('Working on',edf_filepath)\n",
    "    \n",
    "        #%%Get stage info\n",
    "    epoch_stages, epochoffset, starttime = scorefiles.extract_epochstages_from_scorefile(scorefile_filepath, \n",
    "                                                                                         study_settings['stage_map'])\n",
    "    epoch_stages = scorefiles.score_wake_as_waso_wbso_wase(epoch_stages)\n",
    "\n",
    "    #get the start and end of where we want to extract spindles from (lights off->lights on)\n",
    "    lights_off_secs, end_time, \\\n",
    "    _, epoch_stages = sleep_architecture.lights_on_off_and_sleep_latency(epoch_stages,\n",
    "                                                                         epoch_sync_offset_seconds=epochoffset)\n",
    "    \n",
    "    edf = mne.io.read_raw_edf(edf_filepath)\n",
    "    chans_to_consider = [v for v in study_settings['known_eeg_chans'].keys() if v in edf.ch_names]\n",
    "    \n",
    "    d = Dataset(edf_filepath)\n",
    "    if not (lights_off_secs is None or lights_off_secs >= 0):\n",
    "        raise error_handling.EEGError('Epochoffset is negative!'+str(lights_off_secs))\n",
    "    if not ((end_time is None) or (end_time <= d.header['n_samples']/d.header['s_freq'])):\n",
    "        raise error_handling.EEGError(\"end time (\"+ str(end_time) +\") larger than record end!\"+str(d.header['n_samples']/d.header['s_freq']))\n",
    "    data = d.read_data(begtime=lights_off_secs, endtime=end_time, chan=chans_to_consider)\n",
    "    power = timefrequency(data, method='spectrogram')\n",
    "    abs_power = math(power, operator_name='abs')\n",
    "    chan_time_freq = abs_power.data[0]\n",
    "    all_chans = np.ones((chan_time_freq.shape[0],), dtype=bool)\n",
    "    time_axis = np.round(abs_power.axis['time'][0], 2)\n",
    "    freq_axis = np.round(abs_power.axis['freq'][0], 2)\n",
    "    chan_axis = abs_power.axis['chan'][0]\n",
    "    freq_binsize = freq_axis[1] - freq_axis[0]\n",
    "    assert epoch_len > 0, \"epoch len must be greater than zero\"\n",
    "    times = np.arange(0,time_axis[-1],epoch_len)\n",
    "    cont = []\n",
    "    freq_mask = freq_axis < max_freq\n",
    "    time_slice_cont = []\n",
    "    for win_start in times:\n",
    "        time_mask = (win_start <= time_axis) & (time_axis < win_start + epoch_len)\n",
    "        idx = np.ix_(all_chans, time_mask, all_freqs)\n",
    "        chan_epoch_per_band = chan_time_freq[idx].mean(axis=1) / freq_binsize\n",
    "        time_slice_cont.append(chan_epoch_per_band)\n",
    "    all_data = np.stack(time_slice_cont)\n",
    "    all_data = all_data.swapaxes(1,2)\n",
    "    savemat(save_base_path+os.path.split(edf_filepath)[1][:-4]+'_power.mat', mdict={'power': all_data, 'time_axis':times, 'freq_axis': freq_axis[freq_mask], 'lights_off_secs':lights_off_secs})\n",
    "    print('\\tDone, .mat file saved')\n",
    "    \n",
    "\n",
    "    \n",
    "    "
   ]
  }
 ],
 "metadata": {
  "kernelspec": {
   "display_name": "Python 3",
   "language": "python",
   "name": "python3"
  },
  "language_info": {
   "codemirror_mode": {
    "name": "ipython",
    "version": 3
   },
   "file_extension": ".py",
   "mimetype": "text/x-python",
   "name": "python",
   "nbconvert_exporter": "python",
   "pygments_lexer": "ipython3",
   "version": "3.7.3"
  }
 },
 "nbformat": 4,
 "nbformat_minor": 1
}
