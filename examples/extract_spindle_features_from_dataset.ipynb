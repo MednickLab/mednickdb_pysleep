{
 "cells": [
  {
   "cell_type": "code",
   "execution_count": 1,
   "metadata": {
    "collapsed": true
   },
   "outputs": [],
   "source": [
    "# Not needed if pysleep is pip installed (i.e. you probably dont need these lines)\n",
    "import sys, os\n",
    "file_dir = os.path.abspath('')\n",
    "sys.path.insert(0, file_dir+'/../')"
   ]
  },
  {
   "cell_type": "code",
   "execution_count": 2,
   "metadata": {
    "collapsed": true
   },
   "outputs": [],
   "source": [
    "#%% Import the tools we need\n",
    "from mednickdb_pysleep import sleep_features, pysleep_defaults, pysleep_utils, scorefiles, sleep_architecture\n",
    "import pandas as pd\n",
    "import yaml"
   ]
  },
  {
   "cell_type": "code",
   "execution_count": 3,
   "metadata": {
    "collapsed": true
   },
   "outputs": [],
   "source": [
    "#setup location of files and save locations\n",
    "edf_base_path = 'X:/mednicklab_mednickdb/ExampleStudy1/raw_sleep_eeg/'\n",
    "scorefile_base_path = 'X:/mednicklab_mednickdb/ExampleStudy1/sleep_scoring/'\n",
    "edf_filenames = ['subject101/PinkV1 124438.edf']\n",
    "scorefile_filenames = ['subjectid101_visitid1.xls']\n",
    "study_settings = 'X:/mednicklab_mednickdb/ExampleStudy1/study_settings/ExampleStudy1_study_settings.yaml'\n",
    "save_base_path = './'\n"
   ]
  },
  {
   "cell_type": "code",
   "execution_count": 4,
   "metadata": {},
   "outputs": [
    {
     "name": "stderr",
     "output_type": "stream",
     "text": [
      "physical_min is higher than physical_max. Check whether the polarity of your recordings is correct\n"
     ]
    },
    {
     "ename": "NameError",
     "evalue": "name 'features_per_stage' is not defined",
     "output_type": "error",
     "traceback": [
      "\u001b[1;31m---------------------------------------------------------------------------\u001b[0m",
      "\u001b[1;31mNameError\u001b[0m                                 Traceback (most recent call last)",
      "\u001b[1;32m<ipython-input-4-3c2c616d4284>\u001b[0m in \u001b[0;36m<module>\u001b[1;34m()\u001b[0m\n\u001b[0;32m     27\u001b[0m                                                                         \u001b[0mepoch_stages\u001b[0m\u001b[1;33m,\u001b[0m\u001b[1;33m\u001b[0m\u001b[0m\n\u001b[0;32m     28\u001b[0m                                                                         av_across_channels=False)\n\u001b[1;32m---> 29\u001b[1;33m     \u001b[0mfeatures_per_stage\u001b[0m \u001b[1;33m=\u001b[0m \u001b[0mfeatures_per_stage\u001b[0m\u001b[1;33m.\u001b[0m\u001b[0mapply\u001b[0m\u001b[1;33m(\u001b[0m\u001b[1;32mlambda\u001b[0m \u001b[0mx\u001b[0m\u001b[1;33m:\u001b[0m \u001b[0mpd\u001b[0m\u001b[1;33m.\u001b[0m\u001b[0mto_numeric\u001b[0m\u001b[1;33m(\u001b[0m\u001b[0mx\u001b[0m\u001b[1;33m,\u001b[0m \u001b[0merrors\u001b[0m\u001b[1;33m=\u001b[0m\u001b[1;34m'ignore'\u001b[0m\u001b[1;33m)\u001b[0m\u001b[1;33m)\u001b[0m\u001b[1;33m\u001b[0m\u001b[0m\n\u001b[0m\u001b[0;32m     30\u001b[0m     \u001b[0mspindle_features\u001b[0m \u001b[1;33m=\u001b[0m \u001b[0mspindle_features\u001b[0m\u001b[1;33m.\u001b[0m\u001b[0mgroupby\u001b[0m\u001b[1;33m(\u001b[0m\u001b[1;33m[\u001b[0m\u001b[1;34m'quartile'\u001b[0m\u001b[1;33m,\u001b[0m \u001b[1;34m'stage'\u001b[0m\u001b[1;33m,\u001b[0m \u001b[1;34m'chan'\u001b[0m\u001b[1;33m,\u001b[0m \u001b[1;34m'description'\u001b[0m\u001b[1;33m]\u001b[0m\u001b[1;33m)\u001b[0m\u001b[1;33m.\u001b[0m\u001b[0mmean\u001b[0m\u001b[1;33m(\u001b[0m\u001b[1;33m)\u001b[0m\u001b[1;33m\u001b[0m\u001b[0m\n\u001b[0;32m     31\u001b[0m     \u001b[0mspindle_features_cont\u001b[0m\u001b[1;33m.\u001b[0m\u001b[0mappend\u001b[0m\u001b[1;33m(\u001b[0m\u001b[0mspindle_features\u001b[0m\u001b[1;33m)\u001b[0m\u001b[1;33m\u001b[0m\u001b[0m\n",
      "\u001b[1;31mNameError\u001b[0m: name 'features_per_stage' is not defined"
     ]
    }
   ],
   "source": [
    "#%% loop through edf's, extract spindles and then features of spindles (per stage)\n",
    "edf_filepaths = [edf_base_path + edf_filename for edf_filename in edf_filenames]\n",
    "scoring_filepaths = [scorefile_base_path + scorefile_filename for scorefile_filename in scorefile_filenames]\n",
    "spindle_features_cont = []\n",
    "\n",
    "study_settings = yaml.safe_load(open(study_settings,'r+'))\n",
    "\n",
    "for edf_filepath, scorefile_filepath in zip(edf_filepaths, scoring_filepaths):   \n",
    "    #%%Get stage info\n",
    "    epoch_stages, epochoffset, starttime = scorefiles.extract_epochstages_from_scorefile(scorefile_filepath, \n",
    "                                                                                         study_settings['stage_map'])\n",
    "    epoch_stages = scorefiles.score_wake_as_waso_wbso_wase(epoch_stages)\n",
    "\n",
    "    #get the start and end of where we want to extract spindles from (lights off->lights on)\n",
    "    lights_off_secs, lights_on_secs, \\\n",
    "    _, epoch_stages = sleep_architecture.lights_on_off_and_sleep_latency(epoch_stages,\n",
    "                                                                         epoch_sync_offset_seconds=epochoffset)\n",
    "    \n",
    "    spindles = sleep_features.detect_spindles(edf_filepath, algo='Ferrarelli2007', #use a better algo!\n",
    "                                              chans_to_consider=['C3','C4'], #Ferrarelli2007 sucks bus is fast\n",
    "                                              start_time=lights_off_secs, \n",
    "                                              end_time=lights_on_secs)\n",
    "    \n",
    "    spindles = sleep_features.assign_stage_to_feature_events(spindles, epoch_stages)\n",
    "    pysleep_utils.assign_quartiles(spindles, epoch_stages)\n",
    "        \n",
    "    spindle_features = sleep_features.sleep_feature_variables_per_stage(spindles, \n",
    "                                                                        epoch_stages, \n",
    "                                                                        av_across_channels=False)\n",
    "    features_per_stage = features_per_stage.apply(lambda x: pd.to_numeric(x, errors='ignore'))\n",
    "    spindle_features = spindle_features.groupby(['quartile', 'stage', 'chan', 'description']).mean()\n",
    "    spindle_features_cont.append(spindle_features)\n",
    "pd.concat(spindle_features_cont, axis=1).to_csv(save_base_path+'spindles')"
   ]
  },
  {
   "cell_type": "code",
   "execution_count": 16,
   "metadata": {
    "collapsed": true
   },
   "outputs": [],
   "source": [
    "#Combine all spindles into a single dataframe and save to csv\n",
    "all_spindles_info = pd.concat(spindle_features_cont, axis=0)\n",
    "all_spindles_info.to_csv('PSTIM_'+drug+'_spindle_data.csv', index=False)"
   ]
  }
 ],
 "metadata": {
  "kernelspec": {
   "display_name": "Python 3",
   "language": "python",
   "name": "python3"
  },
  "language_info": {
   "codemirror_mode": {
    "name": "ipython",
    "version": 3
   },
   "file_extension": ".py",
   "mimetype": "text/x-python",
   "name": "python",
   "nbconvert_exporter": "python",
   "pygments_lexer": "ipython3",
   "version": "3.6.6"
  }
 },
 "nbformat": 4,
 "nbformat_minor": 1
}
