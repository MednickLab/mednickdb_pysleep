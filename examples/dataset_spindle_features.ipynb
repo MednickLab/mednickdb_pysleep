{
 "cells": [
  {
   "cell_type": "code",
   "execution_count": 2,
   "metadata": {
    "collapsed": true
   },
   "outputs": [
    {
     "name": "stderr",
     "output_type": "stream",
     "text": [
      "C:\\Users\\bdyet\\Anaconda3\\lib\\site-packages\\mednickdb_pyparse\\pyparse_utils.py:10: UserWarning: MednickDB API could not be imported. Some functions will not work.\n  warnings.warn('MednickDB API could not be imported. Some functions will not work.')\n"
     ]
    },
    {
     "ename": "ModuleNotFoundError",
     "evalue": "No module named 'pyparse_utils'",
     "traceback": [
      "\u001b[1;31m---------------------------------------------------------------------------\u001b[0m",
      "\u001b[1;31mModuleNotFoundError\u001b[0m                       Traceback (most recent call last)",
      "\u001b[1;32m<ipython-input-2-44abc9d3a9d4>\u001b[0m in \u001b[0;36m<module>\u001b[1;34m()\u001b[0m\n\u001b[0;32m      3\u001b[0m \u001b[1;31m# Until pyparse has been merged into pysleep, you will need the latest version of pyparse:\u001b[0m\u001b[1;33m\u001b[0m\u001b[1;33m\u001b[0m\u001b[0m\n\u001b[0;32m      4\u001b[0m \u001b[1;31m# >>pip install git+https://bdyetton@bitbucket.org/mednicklab/mednickdb_pyparse.git\u001b[0m\u001b[1;33m\u001b[0m\u001b[1;33m\u001b[0m\u001b[0m\n\u001b[1;32m----> 5\u001b[1;33m \u001b[1;32mfrom\u001b[0m \u001b[0mmednickdb_pyparse\u001b[0m \u001b[1;32mimport\u001b[0m \u001b[0mpyparse_utils\u001b[0m\u001b[1;33m,\u001b[0m \u001b[0mparse_scorefile\u001b[0m\u001b[1;33m\u001b[0m\u001b[0m\n\u001b[0m\u001b[0;32m      6\u001b[0m \u001b[1;32mimport\u001b[0m \u001b[0mglob\u001b[0m\u001b[1;33m\u001b[0m\u001b[0m\n",
      "\u001b[1;32mC:\\Users\\bdyet\\Anaconda3\\lib\\site-packages\\mednickdb_pyparse\\parse_scorefile.py\u001b[0m in \u001b[0;36m<module>\u001b[1;34m()\u001b[0m\n\u001b[0;32m     10\u001b[0m \u001b[1;32mimport\u001b[0m \u001b[0mscipy\u001b[0m\u001b[1;33m.\u001b[0m\u001b[0minterpolate\u001b[0m\u001b[1;33m\u001b[0m\u001b[0m\n\u001b[0;32m     11\u001b[0m \u001b[1;32mimport\u001b[0m \u001b[0mdatetime\u001b[0m\u001b[1;33m\u001b[0m\u001b[0m\n\u001b[1;32m---> 12\u001b[1;33m \u001b[1;32mfrom\u001b[0m \u001b[0mpyparse_utils\u001b[0m \u001b[1;32mimport\u001b[0m \u001b[0mhume_matfile_loader\u001b[0m\u001b[1;33m,\u001b[0m \u001b[0mmat_datenum_to_py_datetime\u001b[0m\u001b[1;33m\u001b[0m\u001b[0m\n\u001b[0m\u001b[0;32m     13\u001b[0m \u001b[1;32mfrom\u001b[0m \u001b[0mmednickdb_pysleep\u001b[0m\u001b[1;33m.\u001b[0m\u001b[0mpysleep_defaults\u001b[0m \u001b[1;32mimport\u001b[0m \u001b[0mstages_to_consider\u001b[0m\u001b[1;33m,\u001b[0m \u001b[0minclude_self_transitions\u001b[0m\u001b[1;33m,\u001b[0m \u001b[0mwake_stages_to_consider\u001b[0m\u001b[1;33m,\u001b[0m\u001b[0;31m \u001b[0m\u001b[0;31m\\\u001b[0m\u001b[1;33m\u001b[0m\u001b[0m\n\u001b[0;32m     14\u001b[0m     \u001b[0mnon_sleep_stages\u001b[0m\u001b[1;33m,\u001b[0m \u001b[0mepoch_len\u001b[0m\u001b[1;33m,\u001b[0m \u001b[0munknown_stage\u001b[0m\u001b[1;33m,\u001b[0m \u001b[0msleep_stages\u001b[0m\u001b[1;33m\u001b[0m\u001b[0m\n",
      "\u001b[1;31mModuleNotFoundError\u001b[0m: No module named 'pyparse_utils'"
     ],
     "output_type": "error"
    }
   ],
   "source": [
    "#%% Import\n",
    "from mednickdb_pysleep import sleep_features\n",
    "# Until pyparse has been merged into pysleep, you will need the latest version of pyparse:\n",
    "# >>pip install git+https://bdyetton@bitbucket.org/mednicklab/mednickdb_pyparse.git\n",
    "from mednickdb_pyparse import pyparse_utils, parse_scorefile  \n",
    "import glob"
   ]
  },
  {
   "cell_type": "code",
   "execution_count": 3,
   "metadata": {},
   "outputs": [
    {
     "ename": "NameError",
     "evalue": "name 'glob' is not defined",
     "traceback": [
      "\u001b[1;31m---------------------------------------------------------------------------\u001b[0m",
      "\u001b[1;31mNameError\u001b[0m                                 Traceback (most recent call last)",
      "\u001b[1;32m<ipython-input-3-6196a47bbf98>\u001b[0m in \u001b[0;36m<module>\u001b[1;34m()\u001b[0m\n\u001b[0;32m      1\u001b[0m \u001b[1;31m#%% Find set of sleep files\u001b[0m\u001b[1;33m\u001b[0m\u001b[1;33m\u001b[0m\u001b[0m\n\u001b[0;32m      2\u001b[0m \u001b[0mworking_dir\u001b[0m \u001b[1;33m=\u001b[0m \u001b[1;34m'M:/data_link/pstim_for_saclab/PBOPBO/'\u001b[0m\u001b[1;33m\u001b[0m\u001b[0m\n\u001b[1;32m----> 3\u001b[1;33m \u001b[0medf_filepaths\u001b[0m \u001b[1;33m=\u001b[0m \u001b[0mglob\u001b[0m\u001b[1;33m.\u001b[0m\u001b[0mglob\u001b[0m\u001b[1;33m(\u001b[0m\u001b[0mworking_dir\u001b[0m \u001b[1;33m+\u001b[0m \u001b[1;34m'*.edf'\u001b[0m\u001b[1;33m)\u001b[0m\u001b[1;33m\u001b[0m\u001b[0m\n\u001b[0m\u001b[0;32m      4\u001b[0m channels_to_consider = ['F3', 'F4', 'C3', 'C4', 'O1', 'O2', 'P3', 'P4', 'FP1', \n\u001b[0;32m      5\u001b[0m                         \u001b[1;34m'FP2'\u001b[0m\u001b[1;33m,\u001b[0m \u001b[1;34m'F7'\u001b[0m\u001b[1;33m,\u001b[0m \u001b[1;34m'F8'\u001b[0m\u001b[1;33m,\u001b[0m \u001b[1;34m'T7'\u001b[0m\u001b[1;33m,\u001b[0m \u001b[1;34m'T8'\u001b[0m\u001b[1;33m,\u001b[0m \u001b[1;34m'P7'\u001b[0m\u001b[1;33m,\u001b[0m \u001b[1;34m'P8'\u001b[0m\u001b[1;33m,\u001b[0m \u001b[1;34m'FT9'\u001b[0m\u001b[1;33m,\u001b[0m \u001b[1;34m'FT10'\u001b[0m\u001b[1;33m,\u001b[0m \u001b[1;34m'Fz'\u001b[0m\u001b[1;33m,\u001b[0m \u001b[1;34m'Cz'\u001b[0m\u001b[1;33m,\u001b[0m\u001b[1;33m\u001b[0m\u001b[0m\n",
      "\u001b[1;31mNameError\u001b[0m: name 'glob' is not defined"
     ],
     "output_type": "error"
    }
   ],
   "source": [
    "#%% Find set of sleep files\n",
    "working_dir = 'M:/data_link/pstim_for_saclab/PBOPBO/'\n",
    "edf_filepaths = glob.glob(working_dir + '*.edf')\n",
    "channels_to_consider = ['F3', 'F4', 'C3', 'C4', 'O1', 'O2', 'P3', 'P4', 'FP1', \n",
    "                        'FP2', 'F7', 'F8', 'T7', 'T8', 'P7', 'P8', 'FT9', 'FT10', 'Fz', 'Cz', \n",
    "                        'CPz', 'PZ', 'POz', 'FPz']"
   ]
  },
  {
   "cell_type": "code",
   "execution_count": null,
   "metadata": {},
   "outputs": [],
   "source": [
    "#%% \n",
    "for edf_filepath in edf_filepaths:\n",
    "    scoring_filepath = edf_filepath.replace('.edf', '.mat')\n",
    "    stagemap = pyparse_utils.get_stagemap_by_studyid(scoring_filepath, None)\n",
    "    stagedata = parse_scorefile.parse_scorefile()\n",
    "    spindles = sleep_features.detect_spindles(edf_filepath, algo='Ferrarelli2007', channels_to_consider=channels_to_consider)\n",
    "    spindle_features = sleep_features.sleep_feature_variables_per_stage(spindles, \n",
    "                                                                        stagedata['epoch_stages'], \n",
    "                                                                        stages_to_consider=['stage2', 'sws'], \n",
    "                                                                        av_across_channels=False)"
   ]
  }
 ],
 "metadata": {
  "kernelspec": {
   "display_name": "Python 2",
   "language": "python",
   "name": "python2"
  },
  "language_info": {
   "codemirror_mode": {
    "name": "ipython",
    "version": 2
   },
   "file_extension": ".py",
   "mimetype": "text/x-python",
   "name": "python",
   "nbconvert_exporter": "python",
   "pygments_lexer": "ipython2",
   "version": "2.7.6"
  }
 },
 "nbformat": 4,
 "nbformat_minor": 0
}
